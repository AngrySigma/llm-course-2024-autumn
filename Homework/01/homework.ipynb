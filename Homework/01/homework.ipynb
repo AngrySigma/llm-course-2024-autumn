{
 "cells": [
  {
   "cell_type": "code",
   "execution_count": 1,
   "id": "3bae632e",
   "metadata": {
    "ExecuteTime": {
     "end_time": "2024-10-08T11:41:23.254614Z",
     "start_time": "2024-10-08T11:41:21.922614Z"
    }
   },
   "outputs": [],
   "source": [
    "import tokenize\n",
    "\n",
    "import pandas as pd\n",
    "import numpy as np\n",
    "import random\n",
    "import torch\n",
    "import torch.nn as nn\n",
    "import torch.nn.functional as F\n",
    "import re\n",
    "import time\n",
    "from torch.utils.data import Dataset, DataLoader\n",
    "from tqdm import tqdm\n",
    "from collections import Counter\n",
    "from IPython.display import clear_output\n",
    "\n",
    "from scripts.tokenizer import ByteTokenizer\n",
    "\n",
    "from scripts import BpeTokenizer, Model, Trainer, Collator, MyDataset, generate"
   ]
  },
  {
   "cell_type": "markdown",
   "id": "fbf920c8",
   "metadata": {},
   "source": [
    "# Загружаем данные"
   ]
  },
  {
   "cell_type": "code",
   "execution_count": 2,
   "id": "62c4b8e1",
   "metadata": {
    "ExecuteTime": {
     "end_time": "2024-10-08T11:41:23.900106Z",
     "start_time": "2024-10-08T11:41:23.708330Z"
    },
    "scrolled": true
   },
   "outputs": [],
   "source": [
    "df = pd.read_csv(\"data/dataset.csv\")\n",
    "train_texts = df[\"text\"][:-1024].tolist()\n",
    "eval_texts = df[\"text\"][-1024:].tolist()"
   ]
  },
  {
   "cell_type": "markdown",
   "id": "1185cbdb",
   "metadata": {},
   "source": [
    "# Инициализируем и обучаем токенизатор"
   ]
  },
  {
   "cell_type": "code",
   "execution_count": 3,
   "id": "c2faf407",
   "metadata": {
    "ExecuteTime": {
     "end_time": "2024-10-08T11:41:25.790658Z",
     "start_time": "2024-10-08T11:41:25.788306Z"
    }
   },
   "outputs": [],
   "source": [
    "tokenizer = BpeTokenizer()\n",
    "# tokenizer = ByteTokenizer()"
   ]
  },
  {
   "cell_type": "code",
   "execution_count": 4,
   "id": "deecd0e9",
   "metadata": {
    "ExecuteTime": {
     "end_time": "2024-10-08T11:45:18.520048Z",
     "start_time": "2024-10-08T11:41:27.148077Z"
    }
   },
   "outputs": [
    {
     "name": "stderr",
     "output_type": "stream",
     "text": [
      "pair=(277, 338), freq=52: 100%|██████████| 1789/1789 [03:51<00:00,  7.73it/s]  \n"
     ]
    }
   ],
   "source": [
    "tokenizer.train(train_texts[:2048], max_vocab=2048)"
   ]
  },
  {
   "cell_type": "code",
   "execution_count": 5,
   "id": "369b68a180a1a946",
   "metadata": {
    "ExecuteTime": {
     "end_time": "2024-10-08T11:45:18.524868Z",
     "start_time": "2024-10-08T11:45:18.521719Z"
    }
   },
   "outputs": [],
   "source": [
    "encoded = tokenizer.encode(r\" случайный текст\")"
   ]
  },
  {
   "cell_type": "code",
   "execution_count": 6,
   "id": "e883cdec71a4bc89",
   "metadata": {
    "ExecuteTime": {
     "end_time": "2024-10-08T11:45:18.532680Z",
     "start_time": "2024-10-08T11:45:18.526259Z"
    }
   },
   "outputs": [
    {
     "data": {
      "text/plain": [
       "' случайный текст'"
      ]
     },
     "execution_count": 6,
     "metadata": {},
     "output_type": "execute_result"
    }
   ],
   "source": [
    "tokenizer.decode(encoded)"
   ]
  },
  {
   "cell_type": "markdown",
   "id": "a4388757",
   "metadata": {},
   "source": [
    "# Создаем датасеты и Collator"
   ]
  },
  {
   "cell_type": "code",
   "execution_count": 7,
   "id": "5a41f636",
   "metadata": {
    "ExecuteTime": {
     "end_time": "2024-10-08T11:52:17.151791Z",
     "start_time": "2024-10-08T11:45:18.534544Z"
    }
   },
   "outputs": [
    {
     "name": "stderr",
     "output_type": "stream",
     "text": [
      "100%|██████████| 16384/16384 [06:34<00:00, 41.54it/s]\n",
      "100%|██████████| 1024/1024 [00:24<00:00, 42.40it/s]\n"
     ]
    }
   ],
   "source": [
    "train_dataset = MyDataset(train_texts, tokenizer, max_length=128)\n",
    "eval_dataset = MyDataset(eval_texts, tokenizer, max_length=128)\n",
    "collator = Collator(tokenizer.pad_token_id)"
   ]
  },
  {
   "cell_type": "markdown",
   "id": "6f1d558d",
   "metadata": {},
   "source": [
    "# Создаем модель"
   ]
  },
  {
   "cell_type": "code",
   "execution_count": 8,
   "id": "6bbf25b3",
   "metadata": {
    "ExecuteTime": {
     "end_time": "2024-10-08T11:52:17.156736Z",
     "start_time": "2024-10-08T11:52:17.152636Z"
    }
   },
   "outputs": [],
   "source": [
    "torch.manual_seed(42)\n",
    "np.random.seed(42)\n",
    "random.seed(42)"
   ]
  },
  {
   "cell_type": "code",
   "execution_count": 9,
   "id": "96a9378a",
   "metadata": {
    "ExecuteTime": {
     "end_time": "2024-10-08T11:52:17.170545Z",
     "start_time": "2024-10-08T11:52:17.157850Z"
    }
   },
   "outputs": [],
   "source": [
    "model = Model(\n",
    "    tokenizer.get_vocab_size(), emb_size=128, hidden_size=256, num_layers=2, dropout=0.1\n",
    ")"
   ]
  },
  {
   "cell_type": "markdown",
   "id": "58ee6385",
   "metadata": {},
   "source": [
    "# Создаем Trainer и запускаем обучение"
   ]
  },
  {
   "cell_type": "code",
   "execution_count": 10,
   "id": "08145518",
   "metadata": {
    "ExecuteTime": {
     "end_time": "2024-10-08T11:52:17.174390Z",
     "start_time": "2024-10-08T11:52:17.171477Z"
    }
   },
   "outputs": [],
   "source": [
    "trainer = Trainer(\n",
    "    model=model,\n",
    "    train_dataset=train_dataset,\n",
    "    eval_dataset=eval_dataset,\n",
    "    n_epochs=8,\n",
    "    train_batch_size=32,\n",
    "    eval_batch_size=32,\n",
    "    eval_steps=64,\n",
    "    collator=collator,\n",
    "    lr=1e-2,\n",
    "    ignore_index=tokenizer.pad_token_id,\n",
    ")"
   ]
  },
  {
   "cell_type": "code",
   "execution_count": 11,
   "id": "57b36087",
   "metadata": {
    "ExecuteTime": {
     "end_time": "2024-10-08T12:11:32.653856Z",
     "start_time": "2024-10-08T11:52:43.195441Z"
    }
   },
   "outputs": [
    {
     "name": "stderr",
     "output_type": "stream",
     "text": [
      "epoch=0.126953125, loss=4.706699848175049:   2%|▏         | 65/4096 [00:17<1:03:30,  1.06it/s]"
     ]
    },
    {
     "name": "stdout",
     "output_type": "stream",
     "text": [
      "epoch=0.125, eval_loss=4.681298717856407\n"
     ]
    },
    {
     "name": "stderr",
     "output_type": "stream",
     "text": [
      "epoch=0.251953125, loss=4.012765884399414:   3%|▎         | 129/4096 [00:33<1:04:13,  1.03it/s]"
     ]
    },
    {
     "name": "stdout",
     "output_type": "stream",
     "text": [
      "epoch=0.25, eval_loss=4.008522070944309\n"
     ]
    },
    {
     "name": "stderr",
     "output_type": "stream",
     "text": [
      "epoch=0.376953125, loss=3.7434115409851074:   5%|▍         | 193/4096 [00:48<1:04:17,  1.01it/s]"
     ]
    },
    {
     "name": "stdout",
     "output_type": "stream",
     "text": [
      "epoch=0.375, eval_loss=3.748442441225052\n"
     ]
    },
    {
     "name": "stderr",
     "output_type": "stream",
     "text": [
      "epoch=0.501953125, loss=3.710777997970581:   6%|▋         | 257/4096 [01:05<1:08:53,  1.08s/it] "
     ]
    },
    {
     "name": "stdout",
     "output_type": "stream",
     "text": [
      "epoch=0.5, eval_loss=3.6047553569078445\n"
     ]
    },
    {
     "name": "stderr",
     "output_type": "stream",
     "text": [
      "epoch=0.626953125, loss=3.66347336769104:   8%|▊         | 321/4096 [01:23<1:05:27,  1.04s/it] "
     ]
    },
    {
     "name": "stdout",
     "output_type": "stream",
     "text": [
      "epoch=0.625, eval_loss=3.511380471289158\n"
     ]
    },
    {
     "name": "stderr",
     "output_type": "stream",
     "text": [
      "epoch=0.751953125, loss=3.4746272563934326:   9%|▉         | 385/4096 [01:40<1:00:36,  1.02it/s]"
     ]
    },
    {
     "name": "stdout",
     "output_type": "stream",
     "text": [
      "epoch=0.75, eval_loss=3.432893253862858\n"
     ]
    },
    {
     "name": "stderr",
     "output_type": "stream",
     "text": [
      "epoch=0.876953125, loss=3.3186872005462646:  11%|█         | 449/4096 [01:56<59:52,  1.02it/s]  "
     ]
    },
    {
     "name": "stdout",
     "output_type": "stream",
     "text": [
      "epoch=0.875, eval_loss=3.3777782320976257\n"
     ]
    },
    {
     "name": "stderr",
     "output_type": "stream",
     "text": [
      "epoch=1.001953125, loss=3.313884735107422:  13%|█▎        | 513/4096 [02:12<57:20,  1.04it/s] "
     ]
    },
    {
     "name": "stdout",
     "output_type": "stream",
     "text": [
      "epoch=1.0, eval_loss=3.3411629647016525\n"
     ]
    },
    {
     "name": "stderr",
     "output_type": "stream",
     "text": [
      "epoch=1.126953125, loss=3.397561550140381:  14%|█▍        | 577/4096 [02:28<59:05,  1.01s/it] "
     ]
    },
    {
     "name": "stdout",
     "output_type": "stream",
     "text": [
      "epoch=1.125, eval_loss=3.309274636209011\n"
     ]
    },
    {
     "name": "stderr",
     "output_type": "stream",
     "text": [
      "epoch=1.251953125, loss=3.4289016723632812:  16%|█▌        | 641/4096 [02:44<56:04,  1.03it/s]"
     ]
    },
    {
     "name": "stdout",
     "output_type": "stream",
     "text": [
      "epoch=1.25, eval_loss=3.282488353550434\n"
     ]
    },
    {
     "name": "stderr",
     "output_type": "stream",
     "text": [
      "epoch=1.376953125, loss=3.2865090370178223:  17%|█▋        | 705/4096 [03:00<56:03,  1.01it/s]"
     ]
    },
    {
     "name": "stdout",
     "output_type": "stream",
     "text": [
      "epoch=1.375, eval_loss=3.2640126645565033\n"
     ]
    },
    {
     "name": "stderr",
     "output_type": "stream",
     "text": [
      "epoch=1.501953125, loss=3.292459487915039:  19%|█▉        | 769/4096 [03:14<47:05,  1.18it/s] "
     ]
    },
    {
     "name": "stdout",
     "output_type": "stream",
     "text": [
      "epoch=1.5, eval_loss=3.238944359123707\n"
     ]
    },
    {
     "name": "stderr",
     "output_type": "stream",
     "text": [
      "epoch=1.626953125, loss=3.161580801010132:  20%|██        | 833/4096 [03:31<53:41,  1.01it/s] "
     ]
    },
    {
     "name": "stdout",
     "output_type": "stream",
     "text": [
      "epoch=1.625, eval_loss=3.2160783410072327\n"
     ]
    },
    {
     "name": "stderr",
     "output_type": "stream",
     "text": [
      "epoch=1.751953125, loss=3.24794864654541:  22%|██▏       | 897/4096 [03:48<56:13,  1.05s/it]  "
     ]
    },
    {
     "name": "stdout",
     "output_type": "stream",
     "text": [
      "epoch=1.75, eval_loss=3.1938890516757965\n"
     ]
    },
    {
     "name": "stderr",
     "output_type": "stream",
     "text": [
      "epoch=1.876953125, loss=3.1408729553222656:  23%|██▎       | 961/4096 [04:05<57:20,  1.10s/it]"
     ]
    },
    {
     "name": "stdout",
     "output_type": "stream",
     "text": [
      "epoch=1.875, eval_loss=3.182496853172779\n"
     ]
    },
    {
     "name": "stderr",
     "output_type": "stream",
     "text": [
      "epoch=2.001953125, loss=3.1043665409088135:  25%|██▌       | 1025/4096 [04:22<52:41,  1.03s/it]"
     ]
    },
    {
     "name": "stdout",
     "output_type": "stream",
     "text": [
      "epoch=2.0, eval_loss=3.1671411097049713\n"
     ]
    },
    {
     "name": "stderr",
     "output_type": "stream",
     "text": [
      "epoch=2.126953125, loss=3.1602416038513184:  27%|██▋       | 1089/4096 [04:41<1:00:54,  1.22s/it]"
     ]
    },
    {
     "name": "stdout",
     "output_type": "stream",
     "text": [
      "epoch=2.125, eval_loss=3.1645492017269135\n"
     ]
    },
    {
     "name": "stderr",
     "output_type": "stream",
     "text": [
      "epoch=2.251953125, loss=3.1485846042633057:  28%|██▊       | 1153/4096 [05:00<58:33,  1.19s/it]  "
     ]
    },
    {
     "name": "stdout",
     "output_type": "stream",
     "text": [
      "epoch=2.25, eval_loss=3.1506785452365875\n"
     ]
    },
    {
     "name": "stderr",
     "output_type": "stream",
     "text": [
      "epoch=2.376953125, loss=3.1425938606262207:  30%|██▉       | 1217/4096 [05:18<52:45,  1.10s/it]"
     ]
    },
    {
     "name": "stdout",
     "output_type": "stream",
     "text": [
      "epoch=2.375, eval_loss=3.1448493525385857\n"
     ]
    },
    {
     "name": "stderr",
     "output_type": "stream",
     "text": [
      "epoch=2.501953125, loss=3.1174423694610596:  31%|███▏      | 1281/4096 [05:36<57:35,  1.23s/it]"
     ]
    },
    {
     "name": "stdout",
     "output_type": "stream",
     "text": [
      "epoch=2.5, eval_loss=3.132151409983635\n"
     ]
    },
    {
     "name": "stderr",
     "output_type": "stream",
     "text": [
      "epoch=2.626953125, loss=3.109255313873291:  33%|███▎      | 1345/4096 [05:52<45:12,  1.01it/s] "
     ]
    },
    {
     "name": "stdout",
     "output_type": "stream",
     "text": [
      "epoch=2.625, eval_loss=3.1209768280386925\n"
     ]
    },
    {
     "name": "stderr",
     "output_type": "stream",
     "text": [
      "epoch=2.751953125, loss=3.1188766956329346:  34%|███▍      | 1409/4096 [06:10<49:17,  1.10s/it]"
     ]
    },
    {
     "name": "stdout",
     "output_type": "stream",
     "text": [
      "epoch=2.75, eval_loss=3.1100467517971992\n"
     ]
    },
    {
     "name": "stderr",
     "output_type": "stream",
     "text": [
      "epoch=2.876953125, loss=3.1308863162994385:  36%|███▌      | 1473/4096 [06:28<48:41,  1.11s/it]"
     ]
    },
    {
     "name": "stdout",
     "output_type": "stream",
     "text": [
      "epoch=2.875, eval_loss=3.0977834090590477\n"
     ]
    },
    {
     "name": "stderr",
     "output_type": "stream",
     "text": [
      "epoch=3.001953125, loss=2.970926523208618:  38%|███▊      | 1537/4096 [06:45<43:27,  1.02s/it] "
     ]
    },
    {
     "name": "stdout",
     "output_type": "stream",
     "text": [
      "epoch=3.0, eval_loss=3.0910230427980423\n"
     ]
    },
    {
     "name": "stderr",
     "output_type": "stream",
     "text": [
      "epoch=3.126953125, loss=3.1178853511810303:  39%|███▉      | 1601/4096 [07:04<46:51,  1.13s/it]"
     ]
    },
    {
     "name": "stdout",
     "output_type": "stream",
     "text": [
      "epoch=3.125, eval_loss=3.08764486014843\n"
     ]
    },
    {
     "name": "stderr",
     "output_type": "stream",
     "text": [
      "epoch=3.251953125, loss=3.0694587230682373:  41%|████      | 1665/4096 [07:21<36:28,  1.11it/s]"
     ]
    },
    {
     "name": "stdout",
     "output_type": "stream",
     "text": [
      "epoch=3.25, eval_loss=3.0867420062422752\n"
     ]
    },
    {
     "name": "stderr",
     "output_type": "stream",
     "text": [
      "epoch=3.376953125, loss=2.9902102947235107:  42%|████▏     | 1729/4096 [07:38<35:07,  1.12it/s]"
     ]
    },
    {
     "name": "stdout",
     "output_type": "stream",
     "text": [
      "epoch=3.375, eval_loss=3.081639640033245\n"
     ]
    },
    {
     "name": "stderr",
     "output_type": "stream",
     "text": [
      "epoch=3.501953125, loss=3.1866860389709473:  44%|████▍     | 1793/4096 [07:57<51:15,  1.34s/it]"
     ]
    },
    {
     "name": "stdout",
     "output_type": "stream",
     "text": [
      "epoch=3.5, eval_loss=3.0725592523813248\n"
     ]
    },
    {
     "name": "stderr",
     "output_type": "stream",
     "text": [
      "epoch=3.626953125, loss=3.151658058166504:  45%|████▌     | 1857/4096 [08:15<41:36,  1.11s/it] "
     ]
    },
    {
     "name": "stdout",
     "output_type": "stream",
     "text": [
      "epoch=3.625, eval_loss=3.063186392188072\n"
     ]
    },
    {
     "name": "stderr",
     "output_type": "stream",
     "text": [
      "epoch=3.751953125, loss=3.0325496196746826:  47%|████▋     | 1921/4096 [08:34<38:49,  1.07s/it]"
     ]
    },
    {
     "name": "stdout",
     "output_type": "stream",
     "text": [
      "epoch=3.75, eval_loss=3.06106074154377\n"
     ]
    },
    {
     "name": "stderr",
     "output_type": "stream",
     "text": [
      "epoch=3.876953125, loss=3.1394448280334473:  48%|████▊     | 1985/4096 [08:52<38:25,  1.09s/it]"
     ]
    },
    {
     "name": "stdout",
     "output_type": "stream",
     "text": [
      "epoch=3.875, eval_loss=3.051759287714958\n"
     ]
    },
    {
     "name": "stderr",
     "output_type": "stream",
     "text": [
      "epoch=4.001953125, loss=2.9282453060150146:  50%|█████     | 2049/4096 [09:11<40:42,  1.19s/it]"
     ]
    },
    {
     "name": "stdout",
     "output_type": "stream",
     "text": [
      "epoch=4.0, eval_loss=3.045823611319065\n"
     ]
    },
    {
     "name": "stderr",
     "output_type": "stream",
     "text": [
      "epoch=4.126953125, loss=3.1137430667877197:  52%|█████▏    | 2113/4096 [09:29<37:34,  1.14s/it]"
     ]
    },
    {
     "name": "stdout",
     "output_type": "stream",
     "text": [
      "epoch=4.125, eval_loss=3.0500994846224785\n"
     ]
    },
    {
     "name": "stderr",
     "output_type": "stream",
     "text": [
      "epoch=4.251953125, loss=2.969740152359009:  53%|█████▎    | 2177/4096 [09:47<37:55,  1.19s/it] "
     ]
    },
    {
     "name": "stdout",
     "output_type": "stream",
     "text": [
      "epoch=4.25, eval_loss=3.0497721061110497\n"
     ]
    },
    {
     "name": "stderr",
     "output_type": "stream",
     "text": [
      "epoch=4.376953125, loss=3.067951202392578:  55%|█████▍    | 2241/4096 [10:06<32:11,  1.04s/it] "
     ]
    },
    {
     "name": "stdout",
     "output_type": "stream",
     "text": [
      "epoch=4.375, eval_loss=3.0446331426501274\n"
     ]
    },
    {
     "name": "stderr",
     "output_type": "stream",
     "text": [
      "epoch=4.501953125, loss=2.9876949787139893:  56%|█████▋    | 2305/4096 [10:24<37:46,  1.27s/it]"
     ]
    },
    {
     "name": "stdout",
     "output_type": "stream",
     "text": [
      "epoch=4.5, eval_loss=3.0386032313108444\n"
     ]
    },
    {
     "name": "stderr",
     "output_type": "stream",
     "text": [
      "epoch=4.626953125, loss=3.0256896018981934:  58%|█████▊    | 2369/4096 [10:42<33:54,  1.18s/it]"
     ]
    },
    {
     "name": "stdout",
     "output_type": "stream",
     "text": [
      "epoch=4.625, eval_loss=3.032992109656334\n"
     ]
    },
    {
     "name": "stderr",
     "output_type": "stream",
     "text": [
      "epoch=4.751953125, loss=2.987865447998047:  59%|█████▉    | 2433/4096 [11:01<28:50,  1.04s/it] "
     ]
    },
    {
     "name": "stdout",
     "output_type": "stream",
     "text": [
      "epoch=4.75, eval_loss=3.025396190583706\n"
     ]
    },
    {
     "name": "stderr",
     "output_type": "stream",
     "text": [
      "epoch=4.876953125, loss=3.1301114559173584:  61%|██████    | 2497/4096 [11:20<30:52,  1.16s/it]"
     ]
    },
    {
     "name": "stdout",
     "output_type": "stream",
     "text": [
      "epoch=4.875, eval_loss=3.0254967659711838\n"
     ]
    },
    {
     "name": "stderr",
     "output_type": "stream",
     "text": [
      "epoch=5.001953125, loss=2.9465203285217285:  63%|██████▎   | 2561/4096 [11:37<25:54,  1.01s/it]"
     ]
    },
    {
     "name": "stdout",
     "output_type": "stream",
     "text": [
      "epoch=5.0, eval_loss=3.0189348608255386\n"
     ]
    },
    {
     "name": "stderr",
     "output_type": "stream",
     "text": [
      "epoch=5.126953125, loss=2.8916375637054443:  64%|██████▍   | 2625/4096 [11:56<27:42,  1.13s/it]"
     ]
    },
    {
     "name": "stdout",
     "output_type": "stream",
     "text": [
      "epoch=5.125, eval_loss=3.0263830348849297\n"
     ]
    },
    {
     "name": "stderr",
     "output_type": "stream",
     "text": [
      "epoch=5.251953125, loss=2.9646260738372803:  66%|██████▌   | 2689/4096 [12:14<23:22,  1.00it/s]"
     ]
    },
    {
     "name": "stdout",
     "output_type": "stream",
     "text": [
      "epoch=5.25, eval_loss=3.021964058279991\n"
     ]
    },
    {
     "name": "stderr",
     "output_type": "stream",
     "text": [
      "epoch=5.376953125, loss=2.975458860397339:  67%|██████▋   | 2753/4096 [12:32<27:51,  1.24s/it] "
     ]
    },
    {
     "name": "stdout",
     "output_type": "stream",
     "text": [
      "epoch=5.375, eval_loss=3.014891281723976\n"
     ]
    },
    {
     "name": "stderr",
     "output_type": "stream",
     "text": [
      "epoch=5.501953125, loss=2.9658358097076416:  69%|██████▉   | 2817/4096 [12:50<23:34,  1.11s/it]"
     ]
    },
    {
     "name": "stdout",
     "output_type": "stream",
     "text": [
      "epoch=5.5, eval_loss=3.0165908485651016\n"
     ]
    },
    {
     "name": "stderr",
     "output_type": "stream",
     "text": [
      "epoch=5.626953125, loss=2.960728645324707:  70%|███████   | 2881/4096 [13:07<21:47,  1.08s/it] "
     ]
    },
    {
     "name": "stdout",
     "output_type": "stream",
     "text": [
      "epoch=5.625, eval_loss=3.005449168384075\n"
     ]
    },
    {
     "name": "stderr",
     "output_type": "stream",
     "text": [
      "epoch=5.751953125, loss=2.948659896850586:  72%|███████▏  | 2945/4096 [13:26<22:01,  1.15s/it] "
     ]
    },
    {
     "name": "stdout",
     "output_type": "stream",
     "text": [
      "epoch=5.75, eval_loss=3.00450549274683\n"
     ]
    },
    {
     "name": "stderr",
     "output_type": "stream",
     "text": [
      "epoch=5.876953125, loss=3.0248477458953857:  73%|███████▎  | 3009/4096 [13:44<20:42,  1.14s/it]"
     ]
    },
    {
     "name": "stdout",
     "output_type": "stream",
     "text": [
      "epoch=5.875, eval_loss=2.9992632046341896\n"
     ]
    },
    {
     "name": "stderr",
     "output_type": "stream",
     "text": [
      "epoch=6.001953125, loss=2.8423538208007812:  75%|███████▌  | 3073/4096 [14:02<17:36,  1.03s/it]"
     ]
    },
    {
     "name": "stdout",
     "output_type": "stream",
     "text": [
      "epoch=6.0, eval_loss=2.9983235970139503\n"
     ]
    },
    {
     "name": "stderr",
     "output_type": "stream",
     "text": [
      "epoch=6.126953125, loss=2.9867982864379883:  77%|███████▋  | 3137/4096 [14:21<17:12,  1.08s/it]"
     ]
    },
    {
     "name": "stdout",
     "output_type": "stream",
     "text": [
      "epoch=6.125, eval_loss=3.003305107355118\n"
     ]
    },
    {
     "name": "stderr",
     "output_type": "stream",
     "text": [
      "epoch=6.251953125, loss=2.9172449111938477:  78%|███████▊  | 3201/4096 [14:38<15:41,  1.05s/it]"
     ]
    },
    {
     "name": "stdout",
     "output_type": "stream",
     "text": [
      "epoch=6.25, eval_loss=3.0050152763724327\n"
     ]
    },
    {
     "name": "stderr",
     "output_type": "stream",
     "text": [
      "epoch=6.376953125, loss=2.9931535720825195:  80%|███████▉  | 3265/4096 [14:55<14:32,  1.05s/it]"
     ]
    },
    {
     "name": "stdout",
     "output_type": "stream",
     "text": [
      "epoch=6.375, eval_loss=3.0001230761408806\n"
     ]
    },
    {
     "name": "stderr",
     "output_type": "stream",
     "text": [
      "epoch=6.501953125, loss=2.957256555557251:  81%|████████▏ | 3329/4096 [15:13<13:32,  1.06s/it] "
     ]
    },
    {
     "name": "stdout",
     "output_type": "stream",
     "text": [
      "epoch=6.5, eval_loss=2.9998829811811447\n"
     ]
    },
    {
     "name": "stderr",
     "output_type": "stream",
     "text": [
      "epoch=6.626953125, loss=3.001415252685547:  83%|████████▎ | 3393/4096 [15:32<12:46,  1.09s/it] "
     ]
    },
    {
     "name": "stdout",
     "output_type": "stream",
     "text": [
      "epoch=6.625, eval_loss=2.991144984960556\n"
     ]
    },
    {
     "name": "stderr",
     "output_type": "stream",
     "text": [
      "epoch=6.751953125, loss=2.9717986583709717:  84%|████████▍ | 3457/4096 [15:51<10:29,  1.01it/s]"
     ]
    },
    {
     "name": "stdout",
     "output_type": "stream",
     "text": [
      "epoch=6.75, eval_loss=2.9932848289608955\n"
     ]
    },
    {
     "name": "stderr",
     "output_type": "stream",
     "text": [
      "epoch=6.876953125, loss=2.978041172027588:  86%|████████▌ | 3521/4096 [16:09<11:33,  1.21s/it] "
     ]
    },
    {
     "name": "stdout",
     "output_type": "stream",
     "text": [
      "epoch=6.875, eval_loss=2.9860037341713905\n"
     ]
    },
    {
     "name": "stderr",
     "output_type": "stream",
     "text": [
      "epoch=7.001953125, loss=2.905702829360962:  88%|████████▊ | 3585/4096 [16:28<09:29,  1.11s/it] "
     ]
    },
    {
     "name": "stdout",
     "output_type": "stream",
     "text": [
      "epoch=7.0, eval_loss=2.984987735748291\n"
     ]
    },
    {
     "name": "stderr",
     "output_type": "stream",
     "text": [
      "epoch=7.126953125, loss=2.9335384368896484:  89%|████████▉ | 3649/4096 [16:47<08:36,  1.16s/it]"
     ]
    },
    {
     "name": "stdout",
     "output_type": "stream",
     "text": [
      "epoch=7.125, eval_loss=2.990895316004753\n"
     ]
    },
    {
     "name": "stderr",
     "output_type": "stream",
     "text": [
      "epoch=7.251953125, loss=2.919400453567505:  91%|█████████ | 3713/4096 [17:05<06:54,  1.08s/it] "
     ]
    },
    {
     "name": "stdout",
     "output_type": "stream",
     "text": [
      "epoch=7.25, eval_loss=2.9823917374014854\n"
     ]
    },
    {
     "name": "stderr",
     "output_type": "stream",
     "text": [
      "epoch=7.376953125, loss=2.9483518600463867:  92%|█████████▏| 3777/4096 [17:22<05:17,  1.00it/s]"
     ]
    },
    {
     "name": "stdout",
     "output_type": "stream",
     "text": [
      "epoch=7.375, eval_loss=2.9844394847750664\n"
     ]
    },
    {
     "name": "stderr",
     "output_type": "stream",
     "text": [
      "epoch=7.501953125, loss=2.9651753902435303:  94%|█████████▍| 3841/4096 [17:39<04:31,  1.07s/it]"
     ]
    },
    {
     "name": "stdout",
     "output_type": "stream",
     "text": [
      "epoch=7.5, eval_loss=2.9806340262293816\n"
     ]
    },
    {
     "name": "stderr",
     "output_type": "stream",
     "text": [
      "epoch=7.626953125, loss=3.0216972827911377:  95%|█████████▌| 3905/4096 [17:57<03:52,  1.22s/it]"
     ]
    },
    {
     "name": "stdout",
     "output_type": "stream",
     "text": [
      "epoch=7.625, eval_loss=2.9837295413017273\n"
     ]
    },
    {
     "name": "stderr",
     "output_type": "stream",
     "text": [
      "epoch=7.751953125, loss=2.9727253913879395:  97%|█████████▋| 3969/4096 [18:16<02:34,  1.22s/it]"
     ]
    },
    {
     "name": "stdout",
     "output_type": "stream",
     "text": [
      "epoch=7.75, eval_loss=2.9790947884321213\n"
     ]
    },
    {
     "name": "stderr",
     "output_type": "stream",
     "text": [
      "epoch=7.876953125, loss=3.0027570724487305:  98%|█████████▊| 4033/4096 [18:33<00:58,  1.07it/s]"
     ]
    },
    {
     "name": "stdout",
     "output_type": "stream",
     "text": [
      "epoch=7.875, eval_loss=2.9754804968833923\n"
     ]
    },
    {
     "name": "stderr",
     "output_type": "stream",
     "text": [
      "epoch=8.0, loss=2.9552931785583496: 100%|██████████| 4096/4096 [18:49<00:00,  3.63it/s]        "
     ]
    },
    {
     "name": "stdout",
     "output_type": "stream",
     "text": [
      "epoch=8.0, eval_loss=2.9725159406661987\n"
     ]
    },
    {
     "name": "stderr",
     "output_type": "stream",
     "text": [
      "\n"
     ]
    }
   ],
   "source": [
    "trainer.train()"
   ]
  },
  {
   "cell_type": "markdown",
   "id": "0b4b73df",
   "metadata": {},
   "source": [
    "# Оцениваем качество и проверяем жадную и случайную генерацию"
   ]
  },
  {
   "cell_type": "code",
   "execution_count": 12,
   "id": "88155ce6",
   "metadata": {
    "ExecuteTime": {
     "end_time": "2024-10-08T14:09:32.702964Z",
     "start_time": "2024-10-08T14:09:29.109331Z"
    }
   },
   "outputs": [
    {
     "data": {
      "text/plain": [
       "2.9725159406661987"
      ]
     },
     "execution_count": 12,
     "metadata": {},
     "output_type": "execute_result"
    }
   ],
   "source": [
    "trainer.evaluate()"
   ]
  },
  {
   "cell_type": "code",
   "execution_count": 13,
   "id": "e9299f79",
   "metadata": {
    "ExecuteTime": {
     "end_time": "2024-10-08T14:09:33.731987Z",
     "start_time": "2024-10-08T14:09:33.186228Z"
    }
   },
   "outputs": [
    {
     "data": {
      "text/plain": [
       "'Козерогам стоит быть внимательнее контакты с друзьями и любимыми людьми. В это время вы можете стать несколько излишнейшим вопросам своих усилий. В это время не стоит подумать о том, что вы не можете сделать внимание на привычную деятельность. В это время не стоит подумать о том, что вы не можете сделать внимание на привычную деятельность. В это время не стоит подумать о том, что вы не можете сделать внимание на привычную деятельность. В это время не стоит подумать о том, что вы не можете сделать внимание на привычную деятельность. В это время не стоит подумать о том, что вы не можете сделать внимание на привычную деятельность. В это время не стоит подумать о том, что вы не можете сделать внимание на привычную деятельность. В это время не стоит подключать красоту или вдохновения, развлечений, развлечений, развлечений, развлечений, развлечений, развлечений, развлечений, рассчитывать на то, что вы не можете сделать внимание на привычную деятельность. В это время не стоит подключать красоту или вдохновения, развлечений, развлечений, развлечений, развлечений, развлечений, развлечений, развлечений, развлечений, рассчитывать на то, что вы не можете сделать внимание на привычную деятельность. В это время не стоит подключать красоту или вдохновения, развлечений, развлечений, развлечений, развлечений, развлечений, развлечений, развлечений, развлечений, развлечений, рассчитывать на то, что вы не можете сделать внимание на привычную деятельность. В это время не стоит подключать красоту или вдохновения, развлечений, развлечений, развлечений, развлечений, развлечений, развлечений, развлечений, развлечений, развлечений, развлечений, развлечений, развлечений, рассчитывать на то, что вы не можете сделать внимание на привычную деятельность. В это время не стоит подключать красоту или вдохновения, развлечений, развлечений, развлечений, развлечений, развлечений, развлечений, развлечений, развлечений, развлечений, развлечений, развлечений, развлечений, развлечений, развлечений, развлечений, развлечений, развлечений, развлечений, развлечений, рассчитывать на то, что вы не можете сделать внимание на привычную деятельность'"
      ]
     },
     "execution_count": 13,
     "metadata": {},
     "output_type": "execute_result"
    }
   ],
   "source": [
    "generate(model, tokenizer, temperature=0)"
   ]
  },
  {
   "cell_type": "code",
   "execution_count": 21,
   "id": "441e4368",
   "metadata": {
    "ExecuteTime": {
     "end_time": "2024-10-08T14:11:07.918440Z",
     "start_time": "2024-10-08T14:11:07.168380Z"
    }
   },
   "outputs": [
    {
     "data": {
      "text/plain": [
       "'На протяжении всего дня вы можете стать своим образом и различной работой, а также не столько надежными своими обязанностями, так как вам не помешает вам стоит быть более коммуникабельными. Подходящий момент для общения с коллегами с родственниками, общениями, ответственными людьми, если вы отдыхом), что сегодня станет более общенами и общениями, общениями, если вы отказываете отношения с окружающим отношениями, общениями, общениями, общениями, общениями, ответственными людьми, ответственными людьми, ответственными людьми, оптимистичными обязанностями, ответственными отношениями, ответственностью, общениями, общениями, общениями, ответственными людьми, общениями, общениями, общениями, общениями, общениями, общениями, особенно с окружающими и общениями, общениями, общениями, общениями, темпераментами, общениями, общениями, общениями, общениями и общениями, общениями, общениями, общениями, общениями, общениями, общениями, особенно с ними обязанности с окружающими и общениями, общениями, если вы отказываете себя от семейных и финансовых вопросов. Важно отказаться от семейных дел, ответственных дел, общения, однако они обстоятельствами и общение с окружающими и общениями, ответственными людьми, особенно с окружающими и общениями, общениями, общениями, общениями, общениями, ответственностью, общениями, общениями, особенно с окружающими и общениями, общениями, общениями, ответственными людьми, если вы отказываете отношения с близким человеком и общениями, ответственными людьми, особенно с окружающими и общениями, общениями, ответственными людьми, особенно с окружающими и общениями, общениями, общениями, общениями, общениями, ответственностью, общениями, особенно с людьми, если вы отлично общение с коллегами, а также не стоит отказаться от общения с коллегами и общениями, общениями, общениями, особенно с окружающими и общениями, ответственными людьми, ответственными людьми, общения'"
      ]
     },
     "execution_count": 21,
     "metadata": {},
     "output_type": "execute_result"
    }
   ],
   "source": [
    "generate(model, tokenizer, temperature=0.25, top_k=10)"
   ]
  }
 ],
 "metadata": {
  "kernelspec": {
   "display_name": "Python 3 (ipykernel)",
   "language": "python",
   "name": "python3"
  },
  "language_info": {
   "codemirror_mode": {
    "name": "ipython",
    "version": 3
   },
   "file_extension": ".py",
   "mimetype": "text/x-python",
   "name": "python",
   "nbconvert_exporter": "python",
   "pygments_lexer": "ipython3",
   "version": "3.11.3"
  }
 },
 "nbformat": 4,
 "nbformat_minor": 5
}
